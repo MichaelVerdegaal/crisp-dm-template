{
 "cells": [
  {
   "cell_type": "markdown",
   "metadata": {
    "collapsed": true,
    "pycharm": {
     "name": "#%% md\n"
    }
   },
   "source": [
    "# Phase 5. Evaluation\n",
    "\n",
    "At this stage in the project, you have built a model (or models) that appears to have high quality\n",
    "from a data analysis perspective. Before proceeding to final deployment of the model, it is\n",
    "important to thoroughly evaluate it and review the steps executed to create it, to be certain the\n",
    "model properly achieves the business objectives, and if important issues have not been considered\n",
    "properly. A key objective is to determine if there is some. At the end of this\n",
    "phase, a decision on the use of the data mining results should be reached."
   ]
  },
  {
   "cell_type": "markdown",
   "source": [
    "# 5.1 Evaluate results\n",
    "\n",
    "## 5.1.1 Task\n",
    "\n",
    "Previous evaluation steps dealt with factors such as the accuracy and generality of the model.\n",
    "This step assesses the degree to which the model meets the business objectives and seeks to\n",
    "determine if there is some business reason why this model is deficient.\n",
    "\n",
    "## 5.1.2 Output\n",
    "\n",
    "### 5.1.2.1 Assessment of data mining results with respect to business success criteria\n",
    "\n",
    "Summarize assessment results in terms of business success criteria, including a final statement\n",
    "regarding whether the project already meets the initial business objectives.\n",
    "\n",
    "### 5.1.2.2 Approved models\n",
    "After assessing models with respect to business success criteria, the generated models that meet\n",
    "the selected criteria become the approved models."
   ],
   "metadata": {
    "collapsed": false
   }
  },
  {
   "cell_type": "markdown",
   "source": [
    "# 5.2 Review process\n",
    "\n",
    "## 5.2.1 Task\n",
    "\n",
    "At this point, the resulting models appear to be satisfactory and to satisfy business needs. It is\n",
    "now appropriate to do a more thorough review of the data mining engagement in order to\n",
    "determine if there is any important factor or task that has somehow been overlooked.\n",
    "\n",
    "## 5.2.2 Output\n",
    "\n",
    "### 5.2.2.1 Review of process\n",
    "\n",
    "Summarize the process review and highlight activities that have been missed and those that should\n",
    "be repeated."
   ],
   "metadata": {
    "collapsed": false
   }
  },
  {
   "cell_type": "markdown",
   "source": [
    "# 5.3 Determine next steps\n",
    "\n",
    "## 5.3.1 Task\n",
    "\n",
    "Depending on the results of the assessment and the process review, the project team decides how to\n",
    "proceed. The team decides whether to finish this project and move on to deployment, initiate further\n",
    "iterations, or set up new data mining projects.\n",
    "\n",
    "## 5.3.2 Output\n",
    "\n",
    "### 5.3.2.1 List of possible actions\n",
    "List the potential further actions, along with the reasons for and against each option.\n",
    "\n",
    "### 5.3.2.2 Decision\n",
    "Describe the decision as to how to proceed, along with the rationale.\n"
   ],
   "metadata": {
    "collapsed": false
   }
  }
 ],
 "metadata": {
  "kernelspec": {
   "display_name": "Python 3",
   "language": "python",
   "name": "python3"
  },
  "language_info": {
   "codemirror_mode": {
    "name": "ipython",
    "version": 2
   },
   "file_extension": ".py",
   "mimetype": "text/x-python",
   "name": "python",
   "nbconvert_exporter": "python",
   "pygments_lexer": "ipython2",
   "version": "2.7.6"
  }
 },
 "nbformat": 4,
 "nbformat_minor": 0
}
