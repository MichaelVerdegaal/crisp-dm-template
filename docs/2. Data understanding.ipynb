{
 "cells": [
  {
   "cell_type": "markdown",
   "source": [
    "# Phase 2. Data Understanding\n",
    "\n",
    "The data understanding phase starts with initial data collection and proceeds with activities\n",
    "that enable you to become familiar with the data, identify data quality problems,\n",
    "discover first insights into the data, and/or detect interesting subsets to form hypotheses."
   ],
   "metadata": {
    "collapsed": false
   }
  },
  {
   "cell_type": "markdown",
   "source": [
    "# 2.1 Collect initial data\n",
    "\n",
    "## 2.1.1 Task\n",
    "Acquire the data (or access to the data) listed in the project resources. This initial collection\n",
    "includes data loading, if necessary for data understanding.\n",
    "\n",
    "## 2.1.1 Output\n",
    "\n",
    "### 2.1.1.1 Initial data collection report\n",
    "\n",
    "List the dataset(s) acquired, together with their locations, the methods used to acquire them, and\n",
    "any problems encountered (and how those problems were resolved)."
   ],
   "metadata": {
    "collapsed": false,
    "pycharm": {
     "name": "#%% md\n"
    }
   }
  },
  {
   "cell_type": "markdown",
   "source": [
    "# 2.2 Describe data\n",
    "\n",
    "## 2.2.1 Task\n",
    "\n",
    "Examine the “gross” or “surface” properties of the acquired data and report on the results.\n",
    "\n",
    "## 2.2.2 Output\n",
    "\n",
    "### 2.2.2.1 Data description report\n",
    "\n",
    "Describe the data that has been acquired, including the format of the data, the quantity of data\n",
    "(for example, the number of records and fields in each table), the identities of the fields, and\n",
    "any other surface features which have been discovered."
   ],
   "metadata": {
    "collapsed": false,
    "pycharm": {
     "name": "#%% md\n"
    }
   }
  },
  {
   "cell_type": "markdown",
   "source": [
    "# 2.3 Explore data\n",
    "\n",
    "## 2.3.1 Task\n",
    "\n",
    "This task addresses data mining questions using querying, visualization, and reporting techniques.\n",
    "These include distribution of key attributes (for example, the target attribute of a prediction task)\n",
    "relationships between pairs or small numbers of attributes, results of simple aggregations,\n",
    "properties of significant sub-populations, and simple statistical analyses.\n",
    "\n",
    "## 2.3.2 Output\n",
    "\n",
    "Describe results of this task, including first findings or initial hypothesis and their impact on\n",
    "the remainder of the project."
   ],
   "metadata": {
    "collapsed": false
   }
  },
  {
   "cell_type": "markdown",
   "source": [
    "# 2.4 Verify data quality\n",
    "\n",
    "## 2.4.1 Task\n",
    "\n",
    "Examine the quality of the data, addressing questions such as: Is the data complete (does it\n",
    "cover all the cases required)? Is it correct, or does it contain errors and, if there are\n",
    "errors, how common are they?\n",
    "\n",
    "## 2.4.2 Output\n",
    "\n",
    "### 2.4.2.1 Data exploration report\n",
    "\n",
    "List the results of the data quality verification; if quality problems exist, list possible\n",
    "solutions."
   ],
   "metadata": {
    "collapsed": false
   }
  }
 ],
 "metadata": {
  "kernelspec": {
   "display_name": "Python 3",
   "language": "python",
   "name": "python3"
  },
  "language_info": {
   "codemirror_mode": {
    "name": "ipython",
    "version": 2
   },
   "file_extension": ".py",
   "mimetype": "text/x-python",
   "name": "python",
   "nbconvert_exporter": "python",
   "pygments_lexer": "ipython2",
   "version": "2.7.6"
  }
 },
 "nbformat": 4,
 "nbformat_minor": 0
}
