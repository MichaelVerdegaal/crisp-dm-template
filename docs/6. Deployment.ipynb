{
 "cells": [
  {
   "cell_type": "markdown",
   "metadata": {
    "collapsed": true,
    "pycharm": {
     "name": "#%% md\n"
    }
   },
   "source": [
    "# Phase 6. Deployment\n",
    "\n",
    "Creation of the model is generally not the end of the project. Even if the purpose of the model is\n",
    "to increase knowledge of the data, the knowledge gained will need to be organized and presented in\n",
    "a way that the customer can use it. It often involves applying “live” models within an\n",
    "organization’s decision-making processes. Depending on the requirements, the deployment phase can\n",
    "be as simple as generating a report or as complex as implementing a repeatable data mining\n",
    "process across the enterprise. In many cases, it is the customer, not the data analyst, who\n",
    "carries out the deployment steps. However, even if the analyst will carry out the\n",
    "deployment effort, it is important for the customer to understand up front what actions need to\n",
    "be carried out in order to actually make use of the created models."
   ]
  },
  {
   "cell_type": "markdown",
   "source": [
    "# 6.1 Plan deployment\n",
    "\n",
    "## 6.1.1 Task\n",
    "\n",
    "This task takes the evaluation results and determines a strategy for deployment. If a general\n",
    "procedure has been identified to create the relevant model(s), this procedure is documented\n",
    "here for later deployment.\n",
    "\n",
    "## 6.1.2 Output\n",
    "\n",
    "### 6.1.2.1 Deployment plan\n",
    "\n",
    "Summarize the deployment strategy, including the necessary steps and how to perform them."
   ],
   "metadata": {
    "collapsed": false
   }
  },
  {
   "cell_type": "markdown",
   "source": [
    "# 6.2 Plan monitoring and maintenance\n",
    "\n",
    "## 6.2.1 Task\n",
    "\n",
    "Monitoring and maintenance are important issues if the data mining result becomes part of the day-to-day\n",
    "business and its environment. In order to monitor the deployment of the data mining result(s),\n",
    "the project needs a detailed monitoring process plan.\n",
    "\n",
    "## 6.2.2 Output\n",
    "\n",
    "### 6.2.2.1 Monitoring and maintenance plan\n",
    "\n",
    "Summarize the monitoring and maintenance strategy, including the necessary steps and how to\n",
    "perform them."
   ],
   "metadata": {
    "collapsed": false
   }
  },
  {
   "cell_type": "markdown",
   "source": [
    "# 6.3 Produce final report\n",
    "\n",
    "## 6.3.1 Task\n",
    "\n",
    "At the end of the project, the project team writes up a final report. Depending on the deployment\n",
    "plan, this report may be only a summary of the project and its experiences (if they have not\n",
    "already been documented as an ongoing activity) or it may be a final and comprehensive\n",
    "presentation of the data mining result(s).\n",
    "\n",
    "## 6.3.2 Output\n",
    "\n",
    "### 6.3.2.1 Final report\n",
    "\n",
    "This is the final written report of the data mining engagement. It includes all the\n",
    "previous deliverables, summarizing and organizing the results.\n",
    "\n",
    "### 6.3.2.2 Final presentation\n",
    "\n",
    "There will also often be a meeting at the conclusion of the project at which the\n",
    "results are presented to the customer. In such as case, add this here."
   ],
   "metadata": {
    "collapsed": false
   }
  },
  {
   "cell_type": "markdown",
   "source": [
    "# 6.4 Review project\n",
    "\n",
    "## 6.4.1 Task\n",
    "\n",
    "Assess what went right and what went wrong, what was done well and what needs to be improved.\n",
    "\n",
    "## 6.4.2 Output\n",
    "\n",
    "### 6.4.2.1 Experience documentation\n",
    "\n",
    "Summarize important experience gained during the project. For example, pitfalls, misleading\n",
    "approaches, or hints for selecting the best suited data mining techniques in similar\n",
    "situations could be part of this documentation."
   ],
   "metadata": {
    "collapsed": false
   }
  }
 ],
 "metadata": {
  "kernelspec": {
   "display_name": "Python 3",
   "language": "python",
   "name": "python3"
  },
  "language_info": {
   "codemirror_mode": {
    "name": "ipython",
    "version": 2
   },
   "file_extension": ".py",
   "mimetype": "text/x-python",
   "name": "python",
   "nbconvert_exporter": "python",
   "pygments_lexer": "ipython2",
   "version": "2.7.6"
  }
 },
 "nbformat": 4,
 "nbformat_minor": 0
}
