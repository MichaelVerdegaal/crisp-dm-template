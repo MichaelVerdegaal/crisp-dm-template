{
 "cells": [
  {
   "cell_type": "markdown",
   "source": [
    "# Phase 3. Data Preparation\n",
    "\n",
    "The data preparation phase covers all activities needed to construct the final dataset \\[data that will be fed into the\n",
    "modeling tool(s)\\] from the initial raw data. Data preparation tasks are likely to be performed multiple times and not\n",
    "in any prescribed order. Tasks include table, record, and attribute selection, as well as transformation and cleaning\n",
    "of data for modeling tools"
   ],
   "metadata": {
    "collapsed": false,
    "pycharm": {
     "name": "#%% md\n"
    }
   }
  },
  {
   "cell_type": "markdown",
   "source": [
    "# 3.1 Select data\n",
    "\n",
    "## 3.1.1 Task\n",
    "\n",
    "Decide on the data to be used for analysis.\n",
    "\n",
    "## 3.1.2 Output\n",
    "\n",
    "### 3.1.2.1 Rationale for inclusion/exclusion\n",
    "\n",
    "List the data to be included/excluded and the reasons for these decisions."
   ],
   "metadata": {
    "collapsed": false
   }
  },
  {
   "cell_type": "markdown",
   "source": [
    "# 3.2 Clean data\n",
    "\n",
    "## 3.2.1 Task\n",
    "\n",
    "Raise the data quality to the level required by the selected analysis techniques.\n",
    "\n",
    "## 3.2.2 Output\n",
    "\n",
    "### 3.2.2.1 Data cleaning report\n",
    "\n",
    "Describe what decisions and actions were taken to address any data quality problems reported\n",
    "during the Verify Data Quality task of the Data Understanding phase."
   ],
   "metadata": {
    "collapsed": false
   }
  },
  {
   "cell_type": "markdown",
   "source": [
    "# 3.3 Construct data\n",
    "\n",
    "## 3.3.1 Task\n",
    "\n",
    "This task includes constructive data preparation operations such as the production of derived\n",
    "attributes or entire new records, or transformed values for existing attributes.\n",
    "\n",
    "## 3.3.2 Output\n",
    "\n",
    "### 3.3.2.1 Derived attributes\n",
    "\n",
    "Derived attributes are new attributes that are constructed from one or more existing attributes in\n",
    "the same record. Describe those here.\n",
    "\n",
    "### 3.3.2.2 Generated records\n",
    "\n",
    "Describe the creation of completely new records."
   ],
   "metadata": {
    "collapsed": false
   }
  },
  {
   "cell_type": "markdown",
   "source": [
    "# 3.4 Integrate data\n",
    "\n",
    "## 3.4.1 Task\n",
    "\n",
    "These are methods whereby information is combined from multiple tables or records to create new\n",
    "records or values.\n",
    "\n",
    "## 3.4.2 Output\n",
    "\n",
    "### 3.4.2.1 Merged data\n",
    "\n",
    "Merged tables refers to tables that were joined together, or those created by aggregation. Describe\n",
    "those here."
   ],
   "metadata": {
    "collapsed": false
   }
  },
  {
   "cell_type": "markdown",
   "source": [
    "# 3.5 Format data\n",
    "\n",
    "## 3.5.1 Task\n",
    "\n",
    "Formatting transformations refer to primarily syntactic modifications made to the data that do\n",
    "not change its meaning, but might be required by the modeling tool.\n",
    "\n",
    "## 3.5.2 Output\n",
    "\n",
    "### 3.5.2.1  Reformatted data\n",
    "\n",
    "Some tools have requirements on the order of the attributes, such as the first field being a unique\n",
    "identifier for each record, or the last field being the outcome field the model is to create via\n",
    "prediction, or perhaps the modeling tools requires all records to be sorted according to a specific\n",
    "value. Describe such steps here."
   ],
   "metadata": {
    "collapsed": false
   }
  }
 ],
 "metadata": {
  "kernelspec": {
   "display_name": "Python 3",
   "language": "python",
   "name": "python3"
  },
  "language_info": {
   "codemirror_mode": {
    "name": "ipython",
    "version": 2
   },
   "file_extension": ".py",
   "mimetype": "text/x-python",
   "name": "python",
   "nbconvert_exporter": "python",
   "pygments_lexer": "ipython2",
   "version": "2.7.6"
  }
 },
 "nbformat": 4,
 "nbformat_minor": 0
}
