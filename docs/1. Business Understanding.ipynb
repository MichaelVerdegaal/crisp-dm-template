{
 "cells": [
  {
   "cell_type": "markdown",
   "source": [
    "# Phase 1. Business Understanding\n",
    "\n",
    "This initial phase focuses on understanding the project objectives and requirements from a\n",
    "business perspective, then converting this into a problem definition and a preliminary plan."
   ],
   "metadata": {
    "collapsed": false
   }
  },
  {
   "cell_type": "markdown",
   "source": [
    "# 1.1 Determine business objectives\n",
    "\n",
    "## 1.1.1 Task\n",
    "\n",
    "The first objective of the data analyst is to thoroughly understand, from a business perspective,\n",
    "what the customer really wants to accomplish.\n",
    "\n",
    "## 1.1.2 Output\n",
    "\n",
    "### 1.1.2.1 Background information\n",
    "\n",
    "Record the information that is known about the situation at the\n",
    "beginning of the project.\n",
    "\n",
    "### 1.1.2.2 Business objective\n",
    "\n",
    "Describe the customer’s primary objective, from a business perspective.\n",
    "\n",
    "### 1.1.2.3 Success criteria\n",
    "\n",
    "Describe the criteria for a successful or useful outcome to the project from the business point\n",
    "of view."
   ],
   "metadata": {
    "collapsed": false,
    "pycharm": {
     "name": "#%% md\n"
    }
   }
  },
  {
   "cell_type": "markdown",
   "source": [
    "# 1.2 Assess situation\n",
    "\n",
    "## 1.2.1 Task\n",
    "\n",
    "This task involves more detailed fact-finding about all the resources, constraints, assumptions, and\n",
    "other factors that should be considered in determining the data analysis goal and project plan.\n",
    "\n",
    "## 1.2.2 Output\n",
    "\n",
    "### 1.2.2.1 Inventory of resources\n",
    "\n",
    "List the resources available to the project. E.g. data, software, experts, etc.\n",
    "\n",
    "### 1.2.2.2 Requirements, assumptions, and constraints\n",
    "\n",
    "List all requirements of the project. In addition, list any assumptions and constraints.\n",
    "\n",
    "### 1.2.2.3 Risks and contingencies\n",
    "\n",
    "List the risks or events that might delay the project or cause it to fail.\n",
    "\n",
    "### 1.2.2.4 Terminology\n",
    "\n",
    "Compile a glossary of terms relevant to this project.\n",
    "\n",
    "### 1.2.2.5 Costs and benefits\n",
    "\n",
    "Construct a cost-benefit analysis for the project, which compares the costs of the project with the potential\n",
    "benefits to the business if it is successful"
   ],
   "metadata": {
    "collapsed": false
   }
  },
  {
   "cell_type": "markdown",
   "source": [
    "# 1.3 Determine data mining goals\n",
    "\n",
    "## 1.3.1 Task\n",
    "\n",
    "A business goal states objectives in business terminology. A data mining goal states\n",
    "project objectives in technical terms.\n",
    "\n",
    "## 1.3.2 Output\n",
    "\n",
    "### 1.3.2.1 Data mining goals\n",
    "\n",
    "Describe the intended outputs of the project that enable the achievement of the business objectives.\n",
    "\n",
    "### 1.3.2.2 Data mining success criteria\n",
    "\n",
    "Define the criteria for a successful outcome to the project in technical terms."
   ],
   "metadata": {
    "collapsed": false
   }
  },
  {
   "cell_type": "markdown",
   "source": [
    "# 1.4 Produce project plan\n",
    "\n",
    "## 1.4.1 Task\n",
    "\n",
    "Describe the intended plan for achieving the data mining goals and thereby achieving the business\n",
    "goals.\n",
    "\n",
    "## 1.4.2 Output\n",
    "\n",
    "### 1.4.2.1 Project plan\n",
    "List the stages to be executed in the project, together with their duration, resources required, inputs,\n",
    "outputs, and dependencies.\n",
    "\n",
    "### 1.4.2.2 Initial assessment of tool and techniques\n",
    "\n",
    "At the end of the first phase, an initial assessment of tools and techniques should be performed."
   ],
   "metadata": {
    "collapsed": false
   }
  }
 ],
 "metadata": {
  "kernelspec": {
   "display_name": "Python 3",
   "language": "python",
   "name": "python3"
  },
  "language_info": {
   "codemirror_mode": {
    "name": "ipython",
    "version": 2
   },
   "file_extension": ".py",
   "mimetype": "text/x-python",
   "name": "python",
   "nbconvert_exporter": "python",
   "pygments_lexer": "ipython2",
   "version": "2.7.6"
  }
 },
 "nbformat": 4,
 "nbformat_minor": 0
}
